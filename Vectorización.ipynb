{
 "cells": [
  {
   "cell_type": "code",
   "execution_count": 1,
   "metadata": {},
   "outputs": [
    {
     "name": "stdout",
     "output_type": "stream",
     "text": [
      "0.311535200000435\n",
      "0.006506400000034773\n"
     ]
    }
   ],
   "source": [
    "#Ejemplos de Vectorizacion en python \n",
    "# https://www.it-swarm.dev/es/python/que-es-la-vectorizacion/834957754/\n",
    "import numpy as np \n",
    "from timeit import Timer #biblioteca para poder checar el tiempo\n",
    "#realizar una lista \n",
    "li = list(range(500000)) #lista de tamaño 500000\n",
    "nump_arr = np.array(li) #ponerlo en la biblioteca de numpy\n",
    "\n",
    "def python_for():\n",
    "    return [num + 1 for num in li] #como se hace normalmente con python\n",
    "\n",
    "def numpy_add(): #en numpy\n",
    "    return nump_arr + 1\n",
    "\n",
    "print(min(Timer(python_for).repeat(10, 10)))\n",
    "print(min(Timer(numpy_add).repeat(10, 10)))"
   ]
  },
  {
   "cell_type": "code",
   "execution_count": 5,
   "metadata": {},
   "outputs": [
    {
     "data": {
      "text/plain": [
       "array([ 5.,  9., 11.,  3.,  4., 11., 12.,  8.])"
      ]
     },
     "execution_count": 5,
     "metadata": {},
     "output_type": "execute_result"
    }
   ],
   "source": [
    "#Ejemplo dos \n",
    "#Mayor de dos arreglos por cada elenmeto \n",
    "import numpy as np \n",
    "def mayor(a,b):\n",
    "    if a>=b:\n",
    "        return a\n",
    "    else:\n",
    "        return b\n",
    "mayor_vector = np.vectorize(mayor, otypes=[float])\n",
    "a1 = np.array([5,9,7,2,3,11,12,8])\n",
    "a2 = np.array([3,5,11,3,4,8,10,8])\n",
    "mayor_vector(a1,a2)"
   ]
  },
  {
   "cell_type": "code",
   "execution_count": null,
   "metadata": {},
   "outputs": [],
   "source": []
  }
 ],
 "metadata": {
  "kernelspec": {
   "display_name": "Python 3",
   "language": "python",
   "name": "python3"
  },
  "language_info": {
   "codemirror_mode": {
    "name": "ipython",
    "version": 3
   },
   "file_extension": ".py",
   "mimetype": "text/x-python",
   "name": "python",
   "nbconvert_exporter": "python",
   "pygments_lexer": "ipython3",
   "version": "3.7.4"
  }
 },
 "nbformat": 4,
 "nbformat_minor": 2
}
