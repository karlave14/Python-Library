{
 "cells": [
  {
   "cell_type": "code",
   "execution_count": 6,
   "metadata": {},
   "outputs": [],
   "source": [
    "import numpy as np \n",
    "\n",
    "array = np.arange(11)"
   ]
  },
  {
   "cell_type": "raw",
   "metadata": {},
   "source": [
    "una dimencion "
   ]
  },
  {
   "cell_type": "code",
   "execution_count": 3,
   "metadata": {},
   "outputs": [
    {
     "name": "stdout",
     "output_type": "stream",
     "text": [
      "[0 1 2 3 4]\n"
     ]
    }
   ],
   "source": [
    "arra = np.arange(5)\n",
    "print(arra)"
   ]
  },
  {
   "cell_type": "code",
   "execution_count": 4,
   "metadata": {},
   "outputs": [
    {
     "data": {
      "text/plain": [
       "array([[ True,  True,  True],\n",
       "       [ True,  True,  True],\n",
       "       [ True,  True,  True]])"
      ]
     },
     "execution_count": 4,
     "metadata": {},
     "output_type": "execute_result"
    }
   ],
   "source": [
    "# boolean array\n",
    "np.full((3,3), True, dtype=bool)\n"
   ]
  },
  {
   "cell_type": "code",
   "execution_count": 4,
   "metadata": {},
   "outputs": [
    {
     "name": "stdout",
     "output_type": "stream",
     "text": [
      "ARRAY 1D: \n",
      "\n",
      "[1 2 3]\n"
     ]
    }
   ],
   "source": [
    "import numpy as np\n",
    "array = np.array([1,2,3])\n",
    "print(\"ARRAY 1D: \\n\")\n",
    "print(array)"
   ]
  },
  {
   "cell_type": "code",
   "execution_count": 5,
   "metadata": {},
   "outputs": [
    {
     "name": "stdout",
     "output_type": "stream",
     "text": [
      "ARRAY 2D: \n",
      "\n",
      "[[1 2 3]\n",
      " [4 5 6]]\n"
     ]
    }
   ],
   "source": [
    "array2 = np.array([(1,2,3),(4,5,6)])\n",
    "print(\"ARRAY 2D: \\n\")\n",
    "print(array2)"
   ]
  },
  {
   "cell_type": "code",
   "execution_count": 7,
   "metadata": {},
   "outputs": [
    {
     "name": "stdout",
     "output_type": "stream",
     "text": [
      "[[ 1  4  9]\n",
      " [ 4 10 18]]\n"
     ]
    }
   ],
   "source": [
    "r= array * array2\n",
    "print(r)"
   ]
  },
  {
   "cell_type": "raw",
   "metadata": {},
   "source": []
  },
  {
   "cell_type": "code",
   "execution_count": 6,
   "metadata": {},
   "outputs": [
    {
     "name": "stdout",
     "output_type": "stream",
     "text": [
      "1: \n",
      "\n",
      "[[0 1 2 3 4]\n",
      " [5 6 7 8 9]]\n",
      "2: \n",
      "\n",
      "[[1 1 1 1 1]\n",
      " [1 1 1 1 1]]\n"
     ]
    }
   ],
   "source": [
    "import numpy as np\n",
    "a = np.arange(10).reshape(2,-1)\n",
    "b = np.repeat(1, 10).reshape(2,-1)\n",
    "print(\"1: \\n\")\n",
    "print(a)\n",
    "print(\"2: \\n\")\n",
    "print(b)"
   ]
  },
  {
   "cell_type": "code",
   "execution_count": 10,
   "metadata": {},
   "outputs": [
    {
     "name": "stdout",
     "output_type": "stream",
     "text": [
      "Resultado lista de python: \n",
      "\n",
      "270.84898948669434\n",
      "\n",
      "Resultado Numpy array: \n",
      "\n",
      "80.01160621643066\n"
     ]
    }
   ],
   "source": [
    "import numpy as np\n",
    "import time \n",
    "\n",
    "SIZE = 1000000\n",
    "\n",
    "l1= range(SIZE)\n",
    "l2= range(SIZE)\n",
    "A1= np.arange(SIZE)\n",
    "A2= np.arange(SIZE)\n",
    "\n",
    "start = time.time()\n",
    "result = [(x,y) for x,y in zip(l1,l2)]\n",
    "print(\"Resultado lista de python: \\n\")\n",
    "print((time.time()-start)*1000)\n",
    "print()\n",
    "start=time.time()\n",
    "result = A1+A2\n",
    "print(\"Resultado Numpy array: \\n\")\n",
    "print((time.time()-start)*1000)\n",
    "#se ve ek tiempo en el que sera mas facil usar matrices"
   ]
  },
  {
   "cell_type": "code",
   "execution_count": 11,
   "metadata": {},
   "outputs": [
    {
     "name": "stdout",
     "output_type": "stream",
     "text": [
      "[[1. 1. 1. 1.]\n",
      " [1. 1. 1. 1.]\n",
      " [1. 1. 1. 1.]]\n"
     ]
    }
   ],
   "source": [
    "#Crear matrices llena de unos \n",
    "unos= np.ones((3,4))\n",
    "print(unos)"
   ]
  },
  {
   "cell_type": "code",
   "execution_count": 12,
   "metadata": {},
   "outputs": [
    {
     "name": "stdout",
     "output_type": "stream",
     "text": [
      "[[0. 0. 0. 0.]\n",
      " [0. 0. 0. 0.]\n",
      " [0. 0. 0. 0.]]\n"
     ]
    }
   ],
   "source": [
    "#matrix igual a cero\n",
    "ceros= np.zeros((3,4))\n",
    "print(ceros)"
   ]
  },
  {
   "cell_type": "code",
   "execution_count": 14,
   "metadata": {},
   "outputs": [
    {
     "name": "stdout",
     "output_type": "stream",
     "text": [
      "[[0.02515053 0.53291829]\n",
      " [0.62975461 0.34111517]]\n"
     ]
    }
   ],
   "source": [
    "#matrix con numeros aleatoreos\n",
    "ale = np.random.random((2,2))\n",
    "print(ale)"
   ]
  },
  {
   "cell_type": "code",
   "execution_count": 15,
   "metadata": {},
   "outputs": [
    {
     "name": "stdout",
     "output_type": "stream",
     "text": [
      "[[0. 0.]\n",
      " [0. 0.]\n",
      " [0. 0.]]\n"
     ]
    }
   ],
   "source": [
    "#crear matriz vacia \n",
    "vacia = np.empty((3,2))\n",
    "print(vacia)"
   ]
  },
  {
   "cell_type": "code",
   "execution_count": 16,
   "metadata": {},
   "outputs": [
    {
     "name": "stdout",
     "output_type": "stream",
     "text": [
      "[[8 8]\n",
      " [8 8]]\n"
     ]
    }
   ],
   "source": [
    "#matriz con un solo valor en toda la matriz \n",
    "full = np.full((2,2),8)\n",
    "print(full)"
   ]
  },
  {
   "cell_type": "code",
   "execution_count": 17,
   "metadata": {},
   "outputs": [
    {
     "name": "stdout",
     "output_type": "stream",
     "text": [
      "[ 0  5 10 15 20 25]\n",
      "[0.  0.5 1.  1.5 2. ]\n"
     ]
    }
   ],
   "source": [
    "#crear matrices con valores espaciados uniformemente \n",
    "espacio1 = np.arange(0,30,5)\n",
    "print(espacio1) \n",
    "espacio2= np.linspace(0,2,5)\n",
    "print(espacio2)"
   ]
  },
  {
   "cell_type": "code",
   "execution_count": 19,
   "metadata": {},
   "outputs": [
    {
     "name": "stdout",
     "output_type": "stream",
     "text": [
      "[[1. 0.]\n",
      " [0. 1.]]\n",
      "[[1. 0. 0. 0.]\n",
      " [0. 1. 0. 0.]\n",
      " [0. 0. 1. 0.]\n",
      " [0. 0. 0. 1.]]\n"
     ]
    }
   ],
   "source": [
    "#matrix identidad \n",
    "identidad1= np.eye(2,2)\n",
    "print(identidad1)\n",
    "identidad2= np.identity(4)\n",
    "print(identidad2)"
   ]
  },
  {
   "cell_type": "code",
   "execution_count": 21,
   "metadata": {},
   "outputs": [
    {
     "name": "stdout",
     "output_type": "stream",
     "text": [
      "2\n"
     ]
    }
   ],
   "source": [
    "#inspeccionar Matrices \n",
    "#conocer las dimenciones de una matrix\n",
    "a = np.array([(1,2,3),(4,5,6)])\n",
    "print(a.ndim)"
   ]
  },
  {
   "cell_type": "code",
   "execution_count": 22,
   "metadata": {},
   "outputs": [
    {
     "name": "stdout",
     "output_type": "stream",
     "text": [
      "int32\n"
     ]
    }
   ],
   "source": [
    "#conocer el tipo de datos de una matrix\n",
    "a= np.array([(1,2,3)])\n",
    "print(a.dtype)"
   ]
  },
  {
   "cell_type": "code",
   "execution_count": 23,
   "metadata": {},
   "outputs": [
    {
     "name": "stdout",
     "output_type": "stream",
     "text": [
      "6\n",
      "(1, 6)\n"
     ]
    }
   ],
   "source": [
    "#tamaño y forma de la matrix\n",
    "a= np.array ([(1,2,3,4,5,6)])\n",
    "print(a.size)\n",
    "print(a.shape)"
   ]
  },
  {
   "cell_type": "code",
   "execution_count": 25,
   "metadata": {},
   "outputs": [
    {
     "name": "stdout",
     "output_type": "stream",
     "text": [
      "[[ 8  9 10]\n",
      " [11 12 13]]\n",
      "[[ 8  9]\n",
      " [10 11]\n",
      " [12 13]]\n"
     ]
    }
   ],
   "source": [
    "#cambio de forma de una matriz\n",
    "a=np.array([(8,9,10),(11,12,13)])\n",
    "print(a)\n",
    "a=a.reshape(3,2)\n",
    "print(a)"
   ]
  },
  {
   "cell_type": "code",
   "execution_count": 26,
   "metadata": {},
   "outputs": [
    {
     "name": "stdout",
     "output_type": "stream",
     "text": [
      "3\n"
     ]
    }
   ],
   "source": [
    "#Extraer un elemento\n",
    "a = np.array([(1,2,3,4),(3,4,5,6)])\n",
    "print(a[0,2])"
   ]
  },
  {
   "cell_type": "code",
   "execution_count": 27,
   "metadata": {},
   "outputs": [
    {
     "name": "stdout",
     "output_type": "stream",
     "text": [
      "[3 5]\n"
     ]
    }
   ],
   "source": [
    "#extraer los valores de todas las filas ubicados en la columna 3 \n",
    "a= np.array([(1,2,3,4),(3,4,5,6)])\n",
    "print(a[0:,2])"
   ]
  },
  {
   "cell_type": "code",
   "execution_count": 29,
   "metadata": {},
   "outputs": [
    {
     "name": "stdout",
     "output_type": "stream",
     "text": [
      "El minimo es: \n",
      " 2\n",
      "El maximo es: \n",
      " 8\n",
      "La suma es: \n",
      " 14\n"
     ]
    }
   ],
   "source": [
    "#operaciones matematicas\n",
    "#minumo maximo en una matriz\n",
    "a = np.array([2,4,8])\n",
    "print(\"El minimo es: \\n\",a.min())\n",
    "print(\"El maximo es: \\n\",a.max())\n",
    "print(\"La suma es: \\n\",a.sum())"
   ]
  },
  {
   "cell_type": "code",
   "execution_count": 31,
   "metadata": {},
   "outputs": [
    {
     "name": "stdout",
     "output_type": "stream",
     "text": [
      "[[1.         1.41421356 1.73205081]\n",
      " [1.73205081 2.         2.23606798]]\n",
      "1.2909944487358056\n"
     ]
    }
   ],
   "source": [
    "#calcular la raiz cuadrada y la desviacion estandar \n",
    "a= np.array([(1,2,3),(3,4,5,)])\n",
    "print(np.sqrt(a))\n",
    "print(np.std(a))"
   ]
  },
  {
   "cell_type": "code",
   "execution_count": null,
   "metadata": {},
   "outputs": [],
   "source": []
  }
 ],
 "metadata": {
  "kernelspec": {
   "display_name": "Python 3",
   "language": "python",
   "name": "python3"
  },
  "language_info": {
   "codemirror_mode": {
    "name": "ipython",
    "version": 3
   },
   "file_extension": ".py",
   "mimetype": "text/x-python",
   "name": "python",
   "nbconvert_exporter": "python",
   "pygments_lexer": "ipython3",
   "version": "3.7.4"
  }
 },
 "nbformat": 4,
 "nbformat_minor": 2
}
